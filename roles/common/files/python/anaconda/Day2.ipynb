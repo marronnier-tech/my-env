{
 "cells": [
  {
   "cell_type": "code",
   "execution_count": 28,
   "id": "07b3ccf8",
   "metadata": {},
   "outputs": [
    {
     "name": "stdout",
     "output_type": "stream",
     "text": [
      "[[0. 0. 0. 0.]\n",
      " [0. 0. 0. 0.]\n",
      " [0. 0. 0. 0.]]\n",
      "[[1. 1. 1.]\n",
      " [1. 1. 1.]]\n",
      "[[0.         0.         0.4472136  0.0531494  0.18257419]\n",
      " [0.4472136  0.2125976  0.36514837 0.4472136  0.4783446 ]\n",
      " [0.54772256 0.4472136  0.85039041 0.73029674 0.4472136 ]]\n"
     ]
    }
   ],
   "source": [
    "import numpy as np\n",
    "import pandas as pd\n",
    "\n",
    "zeros3x4 = np.zeros((3,4))\n",
    "print(zeros3x4)\n",
    "\n",
    "ones2x3 = np.ones((2,3))\n",
    "print(ones2x3)\n",
    "\n",
    "empty3x5 = np.empty((3,5))\n",
    "print(empty3x5)"
   ]
  },
  {
   "cell_type": "code",
   "execution_count": 30,
   "id": "21577ab8",
   "metadata": {},
   "outputs": [
    {
     "name": "stdout",
     "output_type": "stream",
     "text": [
      "[10.  10.5 11.  11.5 12.  12.5 13.  13.5 14.  14.5 15.  15.5 16.  16.5\n",
      " 17.  17.5 18.  18.5 19.  19.5]\n",
      "[0. 4. 8.]\n",
      "[0 3 6]\n"
     ]
    }
   ],
   "source": [
    "print(np.arange(10, 20, 0.5))\n",
    "print(np.linspace(0, 8, 3))\n",
    "print(np.arange(0, 8, 3))"
   ]
  },
  {
   "cell_type": "code",
   "execution_count": 31,
   "id": "c7327cc7",
   "metadata": {},
   "outputs": [
    {
     "data": {
      "text/plain": [
       "dtype('int64')"
      ]
     },
     "execution_count": 31,
     "metadata": {},
     "output_type": "execute_result"
    }
   ],
   "source": [
    "array2x3 = np.array([[1, 2, 3], [4, 5, 6]])\n",
    "\n",
    "array2x3.ndim\n",
    "array2x3.shape[0]\n",
    "array2x3.size\n",
    "array2x3.dtype"
   ]
  },
  {
   "cell_type": "code",
   "execution_count": 32,
   "id": "20b1e7e5",
   "metadata": {},
   "outputs": [
    {
     "name": "stdout",
     "output_type": "stream",
     "text": [
      "['1' '2' '3']\n",
      "[1. 2. 3.]\n",
      "[1.+0.j 2.+0.j 3.+0.j]\n"
     ]
    }
   ],
   "source": [
    "ar_str = np.array([1, 2, 3], dtype=str)\n",
    "print(ar_str)\n",
    "ar_float = ar_str.astype(np.float64)\n",
    "print(ar_float)\n",
    "ar_comp = ar_str.astype(np.complex128)\n",
    "print(ar_comp)"
   ]
  },
  {
   "cell_type": "code",
   "execution_count": 33,
   "id": "93f4c2f4",
   "metadata": {},
   "outputs": [
    {
     "name": "stdout",
     "output_type": "stream",
     "text": [
      "[1 2 3 4 5 6]\n",
      "[[1 2 3]\n",
      " [4 5 6]]\n",
      "[1 2 3 4 5 6]\n",
      "[[1 4]\n",
      " [2 5]\n",
      " [3 6]]\n"
     ]
    }
   ],
   "source": [
    "ar = np.array([1, 2, 3, 4, 5, 6])\n",
    "print(ar)\n",
    "ar2x3 = ar.reshape(2, 3)\n",
    "print(ar2x3)\n",
    "\n",
    "a = ar2x3.ravel()\n",
    "print(a)\n",
    "ar2x3_T = ar2x3.T\n",
    "print(ar2x3_T)"
   ]
  },
  {
   "cell_type": "code",
   "execution_count": 34,
   "id": "42f2f3f4",
   "metadata": {},
   "outputs": [
    {
     "name": "stdout",
     "output_type": "stream",
     "text": [
      "[[ 0  1  2  3  4]\n",
      " [ 5  6  7  8  9]\n",
      " [10 11 12 13 14]]\n"
     ]
    }
   ],
   "source": [
    "arr3x5 = np.arange(15).reshape(3, 5)\n",
    "print(arr3x5)"
   ]
  },
  {
   "cell_type": "code",
   "execution_count": 35,
   "id": "923262de",
   "metadata": {},
   "outputs": [
    {
     "name": "stdout",
     "output_type": "stream",
     "text": [
      "[[[[ 0  1  2]\n",
      "   [ 3  4  5]]\n",
      "\n",
      "  [[ 6  7  8]\n",
      "   [ 9 10 11]]\n",
      "\n",
      "  [[12 13 14]\n",
      "   [15 16 17]]]\n",
      "\n",
      "\n",
      " [[[18 19 20]\n",
      "   [21 22 23]]\n",
      "\n",
      "  [[24 25 26]\n",
      "   [27 28 29]]\n",
      "\n",
      "  [[30 31 32]\n",
      "   [33 34 35]]]]\n"
     ]
    }
   ],
   "source": [
    "arr2x3x2x3 = np.arange(36).reshape(2, 3, 2, 3)\n",
    "print(arr2x3x2x3)"
   ]
  },
  {
   "cell_type": "code",
   "execution_count": 36,
   "id": "bf74edd0",
   "metadata": {},
   "outputs": [
    {
     "name": "stdout",
     "output_type": "stream",
     "text": [
      "[[[  0   3   6   9]\n",
      "  [ 12  15  18  21]\n",
      "  [ 24  27  30  33]\n",
      "  [ 36  39  42  45]\n",
      "  [ 48  51  54  57]]\n",
      "\n",
      " [[ 60  63  66  69]\n",
      "  [ 72  75  78  81]\n",
      "  [ 84  87  90  93]\n",
      "  [ 96  99 102 105]\n",
      "  [108 111 114 117]]]\n"
     ]
    }
   ],
   "source": [
    "arr = np.arange(0,120, 3).reshape(2, 5, -1)\n",
    "print(arr)"
   ]
  },
  {
   "cell_type": "code",
   "execution_count": 37,
   "id": "a2a35f42",
   "metadata": {},
   "outputs": [
    {
     "data": {
      "text/plain": [
       "array(['か', 'お', 'え', 'う', 'い', 'あ'], dtype='<U1')"
      ]
     },
     "execution_count": 37,
     "metadata": {},
     "output_type": "execute_result"
    }
   ],
   "source": [
    "a = np.array(list('あいうえおか'))\n",
    "a[::2]\n",
    "a[::-1]"
   ]
  },
  {
   "cell_type": "code",
   "execution_count": 38,
   "id": "951ef9d0",
   "metadata": {},
   "outputs": [
    {
     "name": "stdout",
     "output_type": "stream",
     "text": [
      "[[ 0  1  2  3  4]\n",
      " [ 5  6  7  8  9]\n",
      " [10 11 12 13 14]\n",
      " [15 16 17 18 19]\n",
      " [20 21 22 23 24]]\n"
     ]
    },
    {
     "data": {
      "text/plain": [
       "array([ 0,  6, 12, 18, 24])"
      ]
     },
     "execution_count": 38,
     "metadata": {},
     "output_type": "execute_result"
    }
   ],
   "source": [
    "b = np.arange(25).reshape(5,5)\n",
    "print(b)\n",
    "b[range(5),range(5)]"
   ]
  },
  {
   "cell_type": "code",
   "execution_count": 39,
   "id": "82774706",
   "metadata": {},
   "outputs": [
    {
     "name": "stdout",
     "output_type": "stream",
     "text": [
      "[[100 200]\n",
      " [300 400]]\n",
      "(0, 0): 100\n",
      "(0, 1): 200\n",
      "(1, 0): 300\n",
      "(1, 1): 400\n"
     ]
    }
   ],
   "source": [
    "a = np.arange(100,500,100).reshape(2,2)\n",
    "print(a)\n",
    "\n",
    "for i, v in np.ndenumerate(a):\n",
    "    print(f\"{i}: {v}\")"
   ]
  },
  {
   "cell_type": "code",
   "execution_count": 40,
   "id": "446a3ad3",
   "metadata": {},
   "outputs": [
    {
     "name": "stdout",
     "output_type": "stream",
     "text": [
      "[[ 0  1  2  3  4]\n",
      " [ 5  6  7  8  9]\n",
      " [10 11 12 13 14]\n",
      " [15 16 17 18 19]]\n",
      "[[ -1  -1  -1  -1  -1]\n",
      " [  0   0   7   0   0]\n",
      " [  0 110 120 130 140]\n",
      " [150 160 170 180 190]]\n"
     ]
    }
   ],
   "source": [
    "a = np.arange(20).reshape(4,5)\n",
    "print(a)\n",
    "print(np.select([a<5, a==7, a>10], [-1, a, a*10]))"
   ]
  },
  {
   "cell_type": "code",
   "execution_count": 41,
   "id": "f039d333",
   "metadata": {},
   "outputs": [
    {
     "name": "stdout",
     "output_type": "stream",
     "text": [
      "[[ 1  2  3  4  5]\n",
      " [ 6  7  8  9 10]\n",
      " [11 12 13 14 15]\n",
      " [16 17 18 19 20]\n",
      " [21 22 23 24 25]]\n",
      "[[ 7  8]\n",
      " [12 13]]\n",
      "(0,0): 5の倍数ではない\n",
      "(0,0): 5の倍数ではない\n",
      "(0,0): 5の倍数ではない\n",
      "(0,0): 5の倍数ではない\n",
      "(0,0): 5の倍数\n",
      "(0,1): 5の倍数ではない\n",
      "(0,1): 5の倍数ではない\n",
      "(0,1): 5の倍数ではない\n",
      "(0,1): 5の倍数ではない\n",
      "(0,1): 5の倍数\n",
      "(0,2): 5の倍数ではない\n",
      "(0,2): 5の倍数ではない\n",
      "(0,2): 5の倍数ではない\n",
      "(0,2): 5の倍数ではない\n",
      "(0,2): 5の倍数\n",
      "(0,3): 5の倍数ではない\n",
      "(0,3): 5の倍数ではない\n",
      "(0,3): 5の倍数ではない\n",
      "(0,3): 5の倍数ではない\n",
      "(0,3): 5の倍数\n",
      "(0,4): 5の倍数ではない\n",
      "(0,4): 5の倍数ではない\n",
      "(0,4): 5の倍数ではない\n",
      "(0,4): 5の倍数ではない\n",
      "(0,4): 5の倍数\n"
     ]
    }
   ],
   "source": [
    "ar = np.arange(1,26).reshape(5,5)\n",
    "print(ar)\n",
    "ar2 = ar[1:3,1:3]\n",
    "print(ar2)\n",
    "\n",
    "ar3 = np.where([ar % 5 == 0], \"5の倍数\", \"5の倍数ではない\")\n",
    "for i,v in np.ndenumerate(ar3):\n",
    "    row = i[0]\n",
    "    col = i[1]\n",
    "    print(f\"({row},{col}): {v}\")\n",
    "    "
   ]
  },
  {
   "cell_type": "code",
   "execution_count": 42,
   "id": "da86c0ca",
   "metadata": {},
   "outputs": [
    {
     "name": "stdout",
     "output_type": "stream",
     "text": [
      "[ 6.  4.  6.  5. inf]\n",
      "[  4.   2.   2.   7. -inf]\n",
      "[ 5.  3.  8. -6. inf]\n",
      "[ 1 -1  0  2  5]\n",
      "[ 5.          3.         16.          0.16666667         inf]\n",
      "[25  9 16 36 81]\n",
      "[ 5.  3.  2. -6.  0.]\n",
      "[1.6        2.         3.25       0.33333333 0.77777778]\n",
      "[1 2 3 0 0]\n",
      "[3 0 1 2 7]\n",
      "185\n",
      "185\n"
     ]
    }
   ],
   "source": [
    "a = np.array([5, 3, 4, 6, 9])\n",
    "b = np.array([1, 1, 2, -1, np.inf])\n",
    "\n",
    "print(a+b)\n",
    "print(a - b)\n",
    "print(a * b)\n",
    "print(a - 4)\n",
    "print(a ** b)\n",
    "np.sqrt(a)\n",
    "print(a ** 2)\n",
    "print(a / b)\n",
    "\n",
    "c = np.array([8, 6, 13, 2, 7])\n",
    "print(c / a )\n",
    "print(c // a)\n",
    "print(c % a)\n",
    "print(a.dot(c.T))\n",
    "print(c.dot(a.T))"
   ]
  },
  {
   "cell_type": "code",
   "execution_count": 43,
   "id": "8f211058",
   "metadata": {},
   "outputs": [
    {
     "name": "stdout",
     "output_type": "stream",
     "text": [
      "[-2. -1.  0.  0.  1.  1.  2.  2.]\n",
      "[-2. -1.  0.  0.  0.  1.  1.  2.]\n",
      "[-1  0  0  0  0  1  1  2]\n",
      "[-1. -0.  0.  0.  0.  1.  1.  2.]\n",
      "[-1. -0.  0.  1.  1.  2.  2.  3.]\n",
      "[-1. -0.  0.  0.  0.  1.  1.  2.]\n"
     ]
    }
   ],
   "source": [
    "f = np.array([-1.5, -0.8, 0., 0.5, 0.8, 1.3, 1.5, 2.5])\n",
    "print(np.round(f))\n",
    "print(np.floor(f)) # 負の値も切り捨てする\n",
    "print(np.trunc(f).astype(int))\n",
    "print(np.trunc(f)) # 負の値の場合は切り上げ\n",
    "print(np.ceil(f)) # 切り上げ\n",
    "print(np.fix(f)) # 0に近い方を採用\n"
   ]
  },
  {
   "cell_type": "code",
   "execution_count": 44,
   "id": "5e9641ef",
   "metadata": {
    "scrolled": true
   },
   "outputs": [
    {
     "name": "stdout",
     "output_type": "stream",
     "text": [
      "[11  4  6  4]\n",
      "[-9  0  0 -4]\n",
      "[10  4  9  0]\n",
      "[0.1 1.  1.  0. ]\n"
     ]
    }
   ],
   "source": [
    "a = np.array([1, 2, 3, 0])\n",
    "b = np.array([10, 2, 3, 4])\n",
    "print(a + b)\n",
    "print(a - b)\n",
    "print(a * b)\n",
    "print(a / b)"
   ]
  },
  {
   "cell_type": "code",
   "execution_count": 45,
   "id": "a218b902",
   "metadata": {},
   "outputs": [
    {
     "name": "stdout",
     "output_type": "stream",
     "text": [
      "[-1  0  0  1  2  2]\n",
      "[0 0 0 2 2 2]\n",
      "[0 0 0 1 1 1]\n"
     ]
    }
   ],
   "source": [
    "f = np.array([-0.8, -0.2, 0., 1.2, 1.5, 1.8])\n",
    "print(np.round(f).astype(int))\n",
    "print(np.ceil(f).astype(int))\n",
    "print(np.fix(f).astype(int))"
   ]
  },
  {
   "cell_type": "code",
   "execution_count": 46,
   "id": "8a89e6be",
   "metadata": {},
   "outputs": [
    {
     "name": "stdout",
     "output_type": "stream",
     "text": [
      "[[ 0  1  2  3  4]\n",
      " [ 5  6  7  8  9]\n",
      " [10 11 12 13 14]\n",
      " [15 16 17 18 19]\n",
      " [20 21 22 23 24]]\n",
      "[10. 11. 12. 13. 14.]\n",
      "[ 2.  7. 12. 17. 22.]\n",
      "[[ 0  1  2  3  4]\n",
      " [ 5  7  9 11 13]\n",
      " [15 18 21 24 27]\n",
      " [30 34 38 42 46]\n",
      " [50 55 60 65 70]]\n"
     ]
    }
   ],
   "source": [
    "ar = np.arange(25).reshape(5,5)\n",
    "print(ar)\n",
    "print(ar.mean(axis=0))\n",
    "print(ar.mean(axis=1))\n",
    "print(ar.cumsum(axis=0))"
   ]
  },
  {
   "cell_type": "code",
   "execution_count": 47,
   "id": "a1576b58",
   "metadata": {},
   "outputs": [
    {
     "name": "stdout",
     "output_type": "stream",
     "text": [
      "[[0.5488135  0.71518937 0.60276338]\n",
      " [0.54488318 0.4236548  0.64589411]\n",
      " [0.43758721 0.891773   0.96366276]\n",
      " [0.38344152 0.79172504 0.52889492]\n",
      " [0.56804456 0.92559664 0.07103606]]\n",
      "19\n",
      "1\n",
      "[2, 1, 3, 0]\n",
      "3\n"
     ]
    }
   ],
   "source": [
    "np.random.seed(seed=0)\n",
    "print(np.random.rand(5,3))\n",
    "print(np.random.randint(10, 50))\n",
    "a = [0, 1, 2, 3]\n",
    "np.random.shuffle(a)\n",
    "print(np.random.choice(a))\n",
    "print(a)\n",
    "print(np.random.choice(a))\n"
   ]
  },
  {
   "cell_type": "code",
   "execution_count": 48,
   "id": "525bf50f",
   "metadata": {},
   "outputs": [
    {
     "data": {
      "text/plain": [
       "3"
      ]
     },
     "execution_count": 48,
     "metadata": {},
     "output_type": "execute_result"
    }
   ],
   "source": [
    "np.random.uniform(0, 1)\n",
    "np.random.normal(0, 1)\n",
    "np.random.poisson(1.4)"
   ]
  },
  {
   "cell_type": "code",
   "execution_count": 49,
   "id": "2141651f",
   "metadata": {},
   "outputs": [
    {
     "name": "stdout",
     "output_type": "stream",
     "text": [
      "[140.75 140.75 148.   122.25 134.75 133.75 141.   143.5  151.   147.75\n",
      " 154.25 144.5  153.   143.25 162.75 158.75 153.25 152.75 155.   126.\n",
      " 145.75 149.25 172.25 162.5  135.   149.25 126.75 141.5  136.25 155.75\n",
      " 130.75 155.75 153.   161.5  145.25 162.25 131.25 146.5  152.25 149.75\n",
      " 157.5  138.25 155.25 157.   144.   164.5  157.75 139.75 123.5  162.\n",
      " 142.5  142.5  136.5  147.25 113.25 145.5  171.75 147.25 129.   159.\n",
      " 133.   161.75 144.   131.75 153.   131.75 170.25 141.5  144.   166.75\n",
      " 150.25 187.25 160.   141.25 154.25 145.5  175.75 162.25 151.75 166.75\n",
      " 128.25 154.   168.   138.25 123.   136.75 150.5  166.5  150.5  148.\n",
      " 140.25 168.75 170.25 142.   150.   124.5  147.   150.5  181.25 149.5\n",
      " 125.   149.   149.25 135.5  138.25 143.25 136.5  147.25 157.75 157.\n",
      " 139.75 171.25 171.75 129.   116.   165.5  136.75 147.25 161.5  140.5\n",
      " 164.25 177.5  183.25 131.5  146.   147.25 144.5  188.75 154.75 167.5\n",
      " 139.   164.5  141.5  158.5  149.5  174.   144.75 179.5  161.75 133.\n",
      " 146.   132.75 154.   151.25 181.75 155.   158.5  157.   159.5  163.75\n",
      " 144.75 171.   115.   179.75 156.25 138.75 144.25 119.75 144.25 167.\n",
      " 148.25 153.75 161.75 158.   137.   146.   150.75 140.25 150.   153.25\n",
      " 129.75 148.   166.25 108.   152.25 163.25 142.75 160.75 144.   163.25\n",
      " 147.5  146.75 135.25 166.   171.   135.75 128.75 153.   127.25 165.75\n",
      " 145.   128.25 147.5  118.25 113.75 151.   144.75 128.75 160.   165.25\n",
      " 135.25 169.25 136.   130.   182.5  129.   169.   120.5  164.   132.\n",
      " 140.25 160.75 154.25 164.5  132.75 163.   138.25 135.75 158.75 155.75\n",
      " 152.   161.5  142.75 151.   126.   143.   129.25 176.5  155.5  161.\n",
      " 164.25 160.5  147.25 146.75 152.5  156.25 152.75 119.25 138.   179.75\n",
      " 110.25 136.5  126.25 152.5  144.   142.25 143.5  147.5  146.5  151.25]\n"
     ]
    }
   ],
   "source": [
    "a = np.random.randint(100, 200, size=1000).reshape(250, 4)\n",
    "print(a.mean(axis=1))"
   ]
  },
  {
   "cell_type": "code",
   "execution_count": 50,
   "id": "2dfa9264",
   "metadata": {},
   "outputs": [
    {
     "name": "stdout",
     "output_type": "stream",
     "text": [
      "0.50±0.29\n",
      "0.01±1.00\n"
     ]
    }
   ],
   "source": [
    "u = np.random.uniform(size=100000)\n",
    "print(f\"{u.mean():.2f}±{u.std():.2f}\")\n",
    "ran = np.random.randn(100000)\n",
    "print(f\"{ran.mean():.2f}±{ran.std():.2f}\")"
   ]
  },
  {
   "cell_type": "code",
   "execution_count": 51,
   "id": "8afbfe57",
   "metadata": {
    "scrolled": true
   },
   "outputs": [
    {
     "name": "stdout",
     "output_type": "stream",
     "text": [
      "   年齢 性別   身長  体重\n",
      "0  12  M  150  40\n",
      "1  14  M  160  55\n",
      "2  13  F  152  48\n",
      "Index(['年齢', '性別', '身長', '体重'], dtype='object')\n",
      "RangeIndex(start=0, stop=3, step=1)\n",
      "Index(['Taro', 'Jiro', 'Hana'], dtype='object')\n",
      "      年齢 性別   身長  体重\n",
      "Taro  12  M  150  40\n",
      "Jiro  14  M  160  55\n",
      "Hana  13  F  152  48\n"
     ]
    },
    {
     "data": {
      "text/html": [
       "<div>\n",
       "<style scoped>\n",
       "    .dataframe tbody tr th:only-of-type {\n",
       "        vertical-align: middle;\n",
       "    }\n",
       "\n",
       "    .dataframe tbody tr th {\n",
       "        vertical-align: top;\n",
       "    }\n",
       "\n",
       "    .dataframe thead th {\n",
       "        text-align: right;\n",
       "    }\n",
       "</style>\n",
       "<table border=\"1\" class=\"dataframe\">\n",
       "  <thead>\n",
       "    <tr style=\"text-align: right;\">\n",
       "      <th></th>\n",
       "      <th>年齢</th>\n",
       "      <th>性別</th>\n",
       "      <th>身長</th>\n",
       "      <th>体重</th>\n",
       "    </tr>\n",
       "  </thead>\n",
       "  <tbody>\n",
       "    <tr>\n",
       "      <th>Taro</th>\n",
       "      <td>12</td>\n",
       "      <td>M</td>\n",
       "      <td>150</td>\n",
       "      <td>40</td>\n",
       "    </tr>\n",
       "    <tr>\n",
       "      <th>Jiro</th>\n",
       "      <td>14</td>\n",
       "      <td>M</td>\n",
       "      <td>160</td>\n",
       "      <td>55</td>\n",
       "    </tr>\n",
       "    <tr>\n",
       "      <th>Hana</th>\n",
       "      <td>13</td>\n",
       "      <td>F</td>\n",
       "      <td>152</td>\n",
       "      <td>48</td>\n",
       "    </tr>\n",
       "  </tbody>\n",
       "</table>\n",
       "</div>"
      ],
      "text/plain": [
       "      年齢 性別   身長  体重\n",
       "Taro  12  M  150  40\n",
       "Jiro  14  M  160  55\n",
       "Hana  13  F  152  48"
      ]
     },
     "metadata": {},
     "output_type": "display_data"
    }
   ],
   "source": [
    "df = pd.DataFrame({\"年齢\": [12, 14, 13],\n",
    "                  \"性別\": [\"M\", \"M\", \"F\"],\n",
    "                  \"身長\": [150, 160, 152],\n",
    "                 \"体重\": [40, 55, 48]},\n",
    "                 columns = [\"年齢\", \"性別\", \"身長\", \"体重\"])\n",
    "print(df)\n",
    "print(df.columns)\n",
    "print(df.index)\n",
    "df.index = [\"Taro\", \"Jiro\", \"Hana\"]\n",
    "print(df.index)\n",
    "print(df)\n",
    "display(df)"
   ]
  },
  {
   "cell_type": "code",
   "execution_count": 52,
   "id": "8d28c870",
   "metadata": {},
   "outputs": [
    {
     "name": "stdout",
     "output_type": "stream",
     "text": [
      "      年齢 性別  height(cm)  weight(kg)\n",
      "Taro  12  M         150          40\n",
      "Jiro  14  M         160          55\n",
      "Hana  13  F         152          48\n",
      "3\n",
      "4\n",
      "(3, 4)\n",
      "<class 'pandas.core.frame.DataFrame'>\n",
      "Index: 3 entries, Taro to Hana\n",
      "Data columns (total 4 columns):\n",
      " #   Column      Non-Null Count  Dtype \n",
      "---  ------      --------------  ----- \n",
      " 0   年齢          3 non-null      int64 \n",
      " 1   性別          3 non-null      object\n",
      " 2   height(cm)  3 non-null      int64 \n",
      " 3   weight(kg)  3 non-null      int64 \n",
      "dtypes: int64(3), object(1)\n",
      "memory usage: 120.0+ bytes\n",
      "None\n"
     ]
    }
   ],
   "source": [
    "df = df.rename(columns={\"身長\": \"height(cm)\", \"体重\": \"weight(kg)\"})\n",
    "print(df)\n",
    "print(len(df))\n",
    "print(len(df.columns))\n",
    "print(df.shape)\n",
    "print(df.info())"
   ]
  },
  {
   "cell_type": "code",
   "execution_count": 53,
   "id": "4dc50a7e",
   "metadata": {},
   "outputs": [
    {
     "name": "stdout",
     "output_type": "stream",
     "text": [
      "      年齢  height(cm)\n",
      "Taro  12         150\n",
      "Jiro  14         160\n",
      "Hana  13         152\n",
      "      年齢  height(cm)\n",
      "Taro  12         150\n",
      "Jiro  14         160\n"
     ]
    }
   ],
   "source": [
    "df.describe()\n",
    "df[\"性別\"].value_counts()\n",
    "pd.get_dummies(df[\"性別\"])\n",
    "print(df[[\"年齢\",\"height(cm)\"]])\n",
    "\n",
    "print(df.loc[[\"Taro\", \"Jiro\"],[\"年齢\",\"height(cm)\"]])\n"
   ]
  },
  {
   "cell_type": "code",
   "execution_count": 54,
   "id": "a9cc9147",
   "metadata": {},
   "outputs": [
    {
     "data": {
      "text/html": [
       "<div>\n",
       "<style scoped>\n",
       "    .dataframe tbody tr th:only-of-type {\n",
       "        vertical-align: middle;\n",
       "    }\n",
       "\n",
       "    .dataframe tbody tr th {\n",
       "        vertical-align: top;\n",
       "    }\n",
       "\n",
       "    .dataframe thead th {\n",
       "        text-align: right;\n",
       "    }\n",
       "</style>\n",
       "<table border=\"1\" class=\"dataframe\">\n",
       "  <thead>\n",
       "    <tr style=\"text-align: right;\">\n",
       "      <th></th>\n",
       "      <th>年齢</th>\n",
       "      <th>性別</th>\n",
       "      <th>height(cm)</th>\n",
       "      <th>weight(kg)</th>\n",
       "    </tr>\n",
       "  </thead>\n",
       "  <tbody>\n",
       "    <tr>\n",
       "      <th>Taro</th>\n",
       "      <td>12</td>\n",
       "      <td>M</td>\n",
       "      <td>150</td>\n",
       "      <td>40</td>\n",
       "    </tr>\n",
       "    <tr>\n",
       "      <th>Jiro</th>\n",
       "      <td>14</td>\n",
       "      <td>M</td>\n",
       "      <td>160</td>\n",
       "      <td>55</td>\n",
       "    </tr>\n",
       "    <tr>\n",
       "      <th>Hana</th>\n",
       "      <td>13</td>\n",
       "      <td>F</td>\n",
       "      <td>152</td>\n",
       "      <td>48</td>\n",
       "    </tr>\n",
       "  </tbody>\n",
       "</table>\n",
       "</div>"
      ],
      "text/plain": [
       "      年齢 性別  height(cm)  weight(kg)\n",
       "Taro  12  M         150          40\n",
       "Jiro  14  M         160          55\n",
       "Hana  13  F         152          48"
      ]
     },
     "metadata": {},
     "output_type": "display_data"
    },
    {
     "data": {
      "text/html": [
       "<div>\n",
       "<style scoped>\n",
       "    .dataframe tbody tr th:only-of-type {\n",
       "        vertical-align: middle;\n",
       "    }\n",
       "\n",
       "    .dataframe tbody tr th {\n",
       "        vertical-align: top;\n",
       "    }\n",
       "\n",
       "    .dataframe thead th {\n",
       "        text-align: right;\n",
       "    }\n",
       "</style>\n",
       "<table border=\"1\" class=\"dataframe\">\n",
       "  <thead>\n",
       "    <tr style=\"text-align: right;\">\n",
       "      <th></th>\n",
       "      <th>年齢</th>\n",
       "      <th>性別</th>\n",
       "      <th>height(cm)</th>\n",
       "      <th>weight(kg)</th>\n",
       "    </tr>\n",
       "  </thead>\n",
       "  <tbody>\n",
       "    <tr>\n",
       "      <th>Taro</th>\n",
       "      <td>12</td>\n",
       "      <td>M</td>\n",
       "      <td>150</td>\n",
       "      <td>40</td>\n",
       "    </tr>\n",
       "    <tr>\n",
       "      <th>Jiro</th>\n",
       "      <td>14</td>\n",
       "      <td>M</td>\n",
       "      <td>160</td>\n",
       "      <td>55</td>\n",
       "    </tr>\n",
       "    <tr>\n",
       "      <th>Hana</th>\n",
       "      <td>13</td>\n",
       "      <td>F</td>\n",
       "      <td>152</td>\n",
       "      <td>48</td>\n",
       "    </tr>\n",
       "  </tbody>\n",
       "</table>\n",
       "</div>"
      ],
      "text/plain": [
       "      年齢 性別  height(cm)  weight(kg)\n",
       "Taro  12  M         150          40\n",
       "Jiro  14  M         160          55\n",
       "Hana  13  F         152          48"
      ]
     },
     "metadata": {},
     "output_type": "display_data"
    },
    {
     "data": {
      "text/html": [
       "<div>\n",
       "<style scoped>\n",
       "    .dataframe tbody tr th:only-of-type {\n",
       "        vertical-align: middle;\n",
       "    }\n",
       "\n",
       "    .dataframe tbody tr th {\n",
       "        vertical-align: top;\n",
       "    }\n",
       "\n",
       "    .dataframe thead th {\n",
       "        text-align: right;\n",
       "    }\n",
       "</style>\n",
       "<table border=\"1\" class=\"dataframe\">\n",
       "  <thead>\n",
       "    <tr style=\"text-align: right;\">\n",
       "      <th></th>\n",
       "      <th>年齢</th>\n",
       "      <th>height(cm)</th>\n",
       "    </tr>\n",
       "  </thead>\n",
       "  <tbody>\n",
       "    <tr>\n",
       "      <th>Taro</th>\n",
       "      <td>12</td>\n",
       "      <td>150</td>\n",
       "    </tr>\n",
       "    <tr>\n",
       "      <th>Jiro</th>\n",
       "      <td>14</td>\n",
       "      <td>160</td>\n",
       "    </tr>\n",
       "    <tr>\n",
       "      <th>Hana</th>\n",
       "      <td>13</td>\n",
       "      <td>152</td>\n",
       "    </tr>\n",
       "  </tbody>\n",
       "</table>\n",
       "</div>"
      ],
      "text/plain": [
       "      年齢  height(cm)\n",
       "Taro  12         150\n",
       "Jiro  14         160\n",
       "Hana  13         152"
      ]
     },
     "execution_count": 54,
     "metadata": {},
     "output_type": "execute_result"
    }
   ],
   "source": [
    "display(df)\n",
    "\n",
    "df.iloc[:,1]\n",
    "df.iloc[[0,1],[1,2]]\n",
    "\n",
    "display(df)\n",
    "df.iloc[:,[True, False, True, False]]"
   ]
  },
  {
   "cell_type": "code",
   "execution_count": 55,
   "id": "f62a16dd",
   "metadata": {},
   "outputs": [
    {
     "data": {
      "text/html": [
       "<div>\n",
       "<style scoped>\n",
       "    .dataframe tbody tr th:only-of-type {\n",
       "        vertical-align: middle;\n",
       "    }\n",
       "\n",
       "    .dataframe tbody tr th {\n",
       "        vertical-align: top;\n",
       "    }\n",
       "\n",
       "    .dataframe thead th {\n",
       "        text-align: right;\n",
       "    }\n",
       "</style>\n",
       "<table border=\"1\" class=\"dataframe\">\n",
       "  <thead>\n",
       "    <tr style=\"text-align: right;\">\n",
       "      <th></th>\n",
       "      <th>age</th>\n",
       "      <th>sex</th>\n",
       "      <th>height</th>\n",
       "      <th>weight</th>\n",
       "    </tr>\n",
       "  </thead>\n",
       "  <tbody>\n",
       "    <tr>\n",
       "      <th>Taro</th>\n",
       "      <td>12</td>\n",
       "      <td>M</td>\n",
       "      <td>150</td>\n",
       "      <td>40</td>\n",
       "    </tr>\n",
       "    <tr>\n",
       "      <th>Jiro</th>\n",
       "      <td>14</td>\n",
       "      <td>M</td>\n",
       "      <td>160</td>\n",
       "      <td>55</td>\n",
       "    </tr>\n",
       "    <tr>\n",
       "      <th>Hana</th>\n",
       "      <td>13</td>\n",
       "      <td>F</td>\n",
       "      <td>152</td>\n",
       "      <td>48</td>\n",
       "    </tr>\n",
       "  </tbody>\n",
       "</table>\n",
       "</div>"
      ],
      "text/plain": [
       "      age sex  height  weight\n",
       "Taro   12   M     150      40\n",
       "Jiro   14   M     160      55\n",
       "Hana   13   F     152      48"
      ]
     },
     "metadata": {},
     "output_type": "display_data"
    }
   ],
   "source": [
    "df = df.rename(columns={\"年齢\": \"age\", \"性別\": \"sex\", \"height(cm)\": \"height\", \"weight(kg)\": \"weight\"})\n",
    "display(df)"
   ]
  },
  {
   "cell_type": "code",
   "execution_count": 58,
   "id": "77cfcadc",
   "metadata": {},
   "outputs": [
    {
     "data": {
      "text/html": [
       "<div>\n",
       "<style scoped>\n",
       "    .dataframe tbody tr th:only-of-type {\n",
       "        vertical-align: middle;\n",
       "    }\n",
       "\n",
       "    .dataframe tbody tr th {\n",
       "        vertical-align: top;\n",
       "    }\n",
       "\n",
       "    .dataframe thead th {\n",
       "        text-align: right;\n",
       "    }\n",
       "</style>\n",
       "<table border=\"1\" class=\"dataframe\">\n",
       "  <thead>\n",
       "    <tr style=\"text-align: right;\">\n",
       "      <th></th>\n",
       "      <th>age</th>\n",
       "      <th>sex</th>\n",
       "      <th>height</th>\n",
       "      <th>weight</th>\n",
       "    </tr>\n",
       "  </thead>\n",
       "  <tbody>\n",
       "    <tr>\n",
       "      <th>Jiro</th>\n",
       "      <td>14</td>\n",
       "      <td>M</td>\n",
       "      <td>160</td>\n",
       "      <td>55</td>\n",
       "    </tr>\n",
       "    <tr>\n",
       "      <th>Hana</th>\n",
       "      <td>13</td>\n",
       "      <td>F</td>\n",
       "      <td>152</td>\n",
       "      <td>48</td>\n",
       "    </tr>\n",
       "  </tbody>\n",
       "</table>\n",
       "</div>"
      ],
      "text/plain": [
       "      age sex  height  weight\n",
       "Jiro   14   M     160      55\n",
       "Hana   13   F     152      48"
      ]
     },
     "execution_count": 58,
     "metadata": {},
     "output_type": "execute_result"
    }
   ],
   "source": [
    "df.query(\"age == 12\")\n",
    "min_height = 150\n",
    "df.query(\"height > @min_height\")"
   ]
  },
  {
   "cell_type": "code",
   "execution_count": 71,
   "id": "06a91a7c",
   "metadata": {},
   "outputs": [
    {
     "name": "stdout",
     "output_type": "stream",
     "text": [
      "[False False  True  True]\n"
     ]
    },
    {
     "data": {
      "text/html": [
       "<div>\n",
       "<style scoped>\n",
       "    .dataframe tbody tr th:only-of-type {\n",
       "        vertical-align: middle;\n",
       "    }\n",
       "\n",
       "    .dataframe tbody tr th {\n",
       "        vertical-align: top;\n",
       "    }\n",
       "\n",
       "    .dataframe thead th {\n",
       "        text-align: right;\n",
       "    }\n",
       "</style>\n",
       "<table border=\"1\" class=\"dataframe\">\n",
       "  <thead>\n",
       "    <tr style=\"text-align: right;\">\n",
       "      <th></th>\n",
       "      <th>height</th>\n",
       "      <th>weight</th>\n",
       "    </tr>\n",
       "  </thead>\n",
       "  <tbody>\n",
       "    <tr>\n",
       "      <th>Taro</th>\n",
       "      <td>150</td>\n",
       "      <td>40</td>\n",
       "    </tr>\n",
       "    <tr>\n",
       "      <th>Jiro</th>\n",
       "      <td>160</td>\n",
       "      <td>55</td>\n",
       "    </tr>\n",
       "  </tbody>\n",
       "</table>\n",
       "</div>"
      ],
      "text/plain": [
       "      height  weight\n",
       "Taro     150      40\n",
       "Jiro     160      55"
      ]
     },
     "execution_count": 71,
     "metadata": {},
     "output_type": "execute_result"
    }
   ],
   "source": [
    "Eight = df.columns.str.contains(\"eight\")\n",
    "print(Eight)\n",
    "df.iloc[[True, True, False],Eight]"
   ]
  },
  {
   "cell_type": "code",
   "execution_count": 106,
   "id": "d8b28c84",
   "metadata": {},
   "outputs": [
    {
     "data": {
      "text/html": [
       "<div>\n",
       "<style scoped>\n",
       "    .dataframe tbody tr th:only-of-type {\n",
       "        vertical-align: middle;\n",
       "    }\n",
       "\n",
       "    .dataframe tbody tr th {\n",
       "        vertical-align: top;\n",
       "    }\n",
       "\n",
       "    .dataframe thead th {\n",
       "        text-align: right;\n",
       "    }\n",
       "</style>\n",
       "<table border=\"1\" class=\"dataframe\">\n",
       "  <thead>\n",
       "    <tr style=\"text-align: right;\">\n",
       "      <th></th>\n",
       "      <th>age</th>\n",
       "      <th>sex</th>\n",
       "      <th>height</th>\n",
       "      <th>weight</th>\n",
       "    </tr>\n",
       "  </thead>\n",
       "  <tbody>\n",
       "    <tr>\n",
       "      <th>Jiro</th>\n",
       "      <td>14</td>\n",
       "      <td>M</td>\n",
       "      <td>160</td>\n",
       "      <td>55</td>\n",
       "    </tr>\n",
       "    <tr>\n",
       "      <th>Hana</th>\n",
       "      <td>13</td>\n",
       "      <td>F</td>\n",
       "      <td>152</td>\n",
       "      <td>48</td>\n",
       "    </tr>\n",
       "    <tr>\n",
       "      <th>Riki</th>\n",
       "      <td>13</td>\n",
       "      <td>M</td>\n",
       "      <td>155</td>\n",
       "      <td>48</td>\n",
       "    </tr>\n",
       "    <tr>\n",
       "      <th>Taro</th>\n",
       "      <td>12</td>\n",
       "      <td>M</td>\n",
       "      <td>150</td>\n",
       "      <td>40</td>\n",
       "    </tr>\n",
       "  </tbody>\n",
       "</table>\n",
       "</div>"
      ],
      "text/plain": [
       "      age sex  height  weight\n",
       "Jiro   14   M     160      55\n",
       "Hana   13   F     152      48\n",
       "Riki   13   M     155      48\n",
       "Taro   12   M     150      40"
      ]
     },
     "execution_count": 106,
     "metadata": {},
     "output_type": "execute_result"
    }
   ],
   "source": [
    "df.loc[\"Riki\"] = [13, \"M\", 155, 48] # locで追加できる\n",
    "df.sort_values([\"age\", \"height\"], ascending=[False, True])"
   ]
  },
  {
   "cell_type": "code",
   "execution_count": null,
   "id": "112276aa",
   "metadata": {},
   "outputs": [],
   "source": []
  }
 ],
 "metadata": {
  "kernelspec": {
   "display_name": "Python 3 (ipykernel)",
   "language": "python",
   "name": "python3"
  },
  "language_info": {
   "codemirror_mode": {
    "name": "ipython",
    "version": 3
   },
   "file_extension": ".py",
   "mimetype": "text/x-python",
   "name": "python",
   "nbconvert_exporter": "python",
   "pygments_lexer": "ipython3",
   "version": "3.9.7"
  }
 },
 "nbformat": 4,
 "nbformat_minor": 5
}
