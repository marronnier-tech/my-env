{
 "cells": [
  {
   "cell_type": "code",
   "execution_count": 2,
   "id": "f9e4e104",
   "metadata": {},
   "outputs": [
    {
     "name": "stdout",
     "output_type": "stream",
     "text": [
      "2187\n"
     ]
    }
   ],
   "source": [
    "x = 1\n",
    "while(x < 1000):\n",
    "    x *= 3\n",
    "\n",
    "print(x)"
   ]
  },
  {
   "cell_type": "code",
   "execution_count": 8,
   "id": "e997b3c5",
   "metadata": {},
   "outputs": [
    {
     "name": "stdout",
     "output_type": "stream",
     "text": [
      "[36.22222222222223, 36.0, 35.27777777777778, 36.94444444444444, 37.88888888888889]\n",
      "36.2℃は平熱です。\n",
      "36.0℃は平熱です。\n",
      "35.3℃は低体温です。\n",
      "36.9℃は平熱です。\n",
      "37.9℃は熱があります。\n"
     ]
    }
   ],
   "source": [
    "f_bodys = [97.2, 96.8, 95.5, 98.5, 100.2]\n",
    "c_bodys = []\n",
    "for f_body in f_bodys:\n",
    "    c_bodys.append(5 / 9 * ( f_body - 32))\n",
    "    \n",
    "print(c_bodys)\n",
    "\n",
    "top_limit = 37\n",
    "bottom_limit = 36\n",
    "for c_body in c_bodys:\n",
    "    if c_body < 37 and c_body >= 36:\n",
    "        print(\"{:.1f}℃は平熱です。\".format(c_body))\n",
    "    elif c_body < 36:\n",
    "        print(\"{:.1f}℃は低体温です。\".format(c_body))\n",
    "    else:\n",
    "        print(\"{:.1f}℃は熱があります。\".format(c_body))"
   ]
  },
  {
   "cell_type": "code",
   "execution_count": 18,
   "id": "edd8d064",
   "metadata": {},
   "outputs": [
    {
     "name": "stdout",
     "output_type": "stream",
     "text": [
      "71.775\n",
      "66.2305\n",
      "85.555\n"
     ]
    }
   ],
   "source": [
    "def dis_comfort(T, H, is_celsius = True):\n",
    "    if is_celsius:\n",
    "        C = T\n",
    "    else: \n",
    "        C = 5/9 * (T - 32)\n",
    "    \n",
    "    return 0.81 * C + 0.01 * H * (0.99 * C - 14.3) + 46.3\n",
    "\n",
    "print(dis_comfort(25, 50))\n",
    "print(dis_comfort(21, 45))\n",
    "print(dis_comfort(91, 70, False))"
   ]
  },
  {
   "cell_type": "code",
   "execution_count": 42,
   "id": "e907c625",
   "metadata": {},
   "outputs": [
    {
     "name": "stdout",
     "output_type": "stream",
     "text": [
      "{'3': 25}\n",
      "25\n",
      "{'3': 25, '5': 32}\n",
      "32\n"
     ]
    }
   ],
   "source": [
    "class dic_temp:\n",
    "    def __init__(self, temp_table):\n",
    "        self.dic = temp_table\n",
    "        \n",
    "    def out(self):\n",
    "        print(self.dic)\n",
    "        \n",
    "    def get(self):\n",
    "        return self.dic\n",
    "        \n",
    "temp = dic_temp({'3': 25})\n",
    "temp.out()\n",
    "table = temp.get()\n",
    "print(table['3'])\n",
    "\n",
    "class show_temp(dic_temp):\n",
    "    def get_temp(self,day):\n",
    "        return self.dic[day]\n",
    "\n",
    "\n",
    "test = show_temp({'3': 25, '5': 32})\n",
    "test.out()\n",
    "print(test.get_temp('5'))\n"
   ]
  },
  {
   "cell_type": "code",
   "execution_count": 44,
   "id": "d8b90598",
   "metadata": {},
   "outputs": [
    {
     "data": {
      "text/plain": [
       "3"
      ]
     },
     "execution_count": 44,
     "metadata": {},
     "output_type": "execute_result"
    }
   ],
   "source": [
    "add_lambda = lambda x, y: x + y\n",
    "add_lambda(1,2)"
   ]
  },
  {
   "cell_type": "code",
   "execution_count": 10,
   "id": "8467e3b1",
   "metadata": {},
   "outputs": [
    {
     "data": {
      "text/plain": [
       "'b'"
      ]
     },
     "execution_count": 10,
     "metadata": {},
     "output_type": "execute_result"
    }
   ],
   "source": [
    "doc = {\"a\": 1, \"b\": 7, \"c\":7}\n",
    "max(doc.items(), key=lambda x:x[1])[0]"
   ]
  },
  {
   "cell_type": "code",
   "execution_count": 17,
   "id": "0f6ab4bd",
   "metadata": {},
   "outputs": [
    {
     "name": "stdout",
     "output_type": "stream",
     "text": [
      "{'0128': 12, '0129': 15, '0130': 9}\n",
      "{'0128': 12, '0129': 15, '0130': 9}です\n"
     ]
    }
   ],
   "source": [
    "class temperature:\n",
    "    def __init__(self, dic):\n",
    "        self.dic = dic\n",
    "\n",
    "    def out(self):\n",
    "        print(self.dic)\n",
    "\n",
    "    def show(self):\n",
    "        return(self.dic)\n",
    "    \n",
    "test = temperature({\"0128\":12, \"0129\": 15, \"0130\": 9})\n",
    "test.out()\n",
    "test_dic = test.show()\n",
    "print(str(test_dic) + \"です\")"
   ]
  },
  {
   "cell_type": "code",
   "execution_count": 29,
   "id": "d207cfd5",
   "metadata": {},
   "outputs": [
    {
     "name": "stdout",
     "output_type": "stream",
     "text": [
      "{'0128': 12, '0129': 15, '0130': 9}\n",
      "0129\n"
     ]
    }
   ],
   "source": [
    "class ex_temp(temperature):\n",
    "    def max_temp(self):\n",
    "        print(max(self.dic.items(), key= lambda x: x[1])[0])\n",
    "        \n",
    "test2 = ex_temp({\"0128\":12, \"0129\": 15, \"0130\": 9})\n",
    "test2.out()\n",
    "test2.max_temp()\n"
   ]
  },
  {
   "cell_type": "code",
   "execution_count": 34,
   "id": "b9a2e3e6",
   "metadata": {},
   "outputs": [
    {
     "name": "stdout",
     "output_type": "stream",
     "text": [
      "070\n"
     ]
    }
   ],
   "source": [
    "import re\n",
    "\n",
    "def area_code(tel):\n",
    "    return re.split('\\-', tel)[0]\n",
    "\n",
    "print(area_code('070-1574-0411'))"
   ]
  },
  {
   "cell_type": "code",
   "execution_count": 3,
   "id": "45260832",
   "metadata": {},
   "outputs": [
    {
     "name": "stdout",
     "output_type": "stream",
     "text": [
      "start\n",
      "2 / 3 = 0.666667\n",
      "割れない\n",
      "4 / 8 = 0.500000\n"
     ]
    }
   ],
   "source": [
    "def div(x, y):\n",
    "    return x/y\n",
    "    \n",
    "print(\"start\")\n",
    "numbers = [2, 3, 5, 0, 4, 8]\n",
    "\n",
    "i = 0\n",
    "while i <len(numbers):\n",
    "    try:\n",
    "        z = div(numbers[i], numbers[i + 1])\n",
    "    except ZeroDivisionError:\n",
    "        print('割れない')\n",
    "    else:\n",
    "        print(\"{:d} / {:d} = {:3f}\".format(numbers[i], numbers[i+1], z))\n",
    "    i += 2\n",
    "    \n",
    "    "
   ]
  },
  {
   "cell_type": "code",
   "execution_count": 8,
   "id": "09d58854",
   "metadata": {},
   "outputs": [
    {
     "name": "stdout",
     "output_type": "stream",
     "text": [
      "入力に誤りがあります\n"
     ]
    }
   ],
   "source": [
    "def max_list(x):\n",
    "    return max(x)\n",
    "\n",
    "test = [5, 2, 7, 4]\n",
    "zero = []\n",
    "try:\n",
    "    res = max_list(zero)\n",
    "except ValueError:\n",
    "    print(\"入力に誤りがあります\")\n",
    "else: \n",
    "    print(res)\n",
    "    "
   ]
  },
  {
   "cell_type": "code",
   "execution_count": 95,
   "id": "b795b6e2",
   "metadata": {},
   "outputs": [
    {
     "name": "stdout",
     "output_type": "stream",
     "text": [
      "ok\n",
      "{'Tom': '0312345678', 'Lisa': '048-749-5000', 'Alice': '070-1574-5000'}\n",
      "0312345678\n",
      "辞書が更新されました。最新の辞書は以下です。\n",
      "{'Tom': '0312345678', 'Lisa': '048-749-5000', 'Alice': '070-1574-5000', 'Neco': '1234567'}\n",
      "辞書が更新されました。最新の辞書は以下です。\n",
      "{'Tom': '03-1234-5678', 'Lisa': '048-749-5000', 'Alice': '070-1574-5000', 'Neco': '1234567'}\n",
      "辞書が更新されました。最新の辞書は以下です。\n",
      "{'Tom': '03-1234-5678', 'Neco': '1234567'}\n"
     ]
    },
    {
     "name": "stderr",
     "output_type": "stream",
     "text": [
      "/var/folders/0r/09mdl7vd3g96fcj_6mx842d00000gn/T/ipykernel_3645/960009969.py:48: UserWarning: Tomの電話番号がハイフン区切りになっていません\n",
      "  warnings.warn(f'{name}の電話番号がハイフン区切りになっていません')\n",
      "/var/folders/0r/09mdl7vd3g96fcj_6mx842d00000gn/T/ipykernel_3645/960009969.py:27: UserWarning: 電話帳に無い名前を変更することは出来ません。\n",
      "  warnings.warn('電話帳に無い名前を変更することは出来ません。')\n"
     ]
    }
   ],
   "source": [
    "import warnings\n",
    "\n",
    "class CallList:\n",
    "    def __init__(self, dic):\n",
    "        self.dic = dic\n",
    "        print(\"ok\")\n",
    "        self.__check_input(dic)\n",
    "    \n",
    "    def out(self):\n",
    "        print(self.dic)\n",
    "    \n",
    "    def out_num(self, name):\n",
    "        return self.dic[name]\n",
    "    \n",
    "    def out_city(self, name):\n",
    "        number = self.out_num(name)\n",
    "        return self.__city(number, name)\n",
    "    \n",
    "    def add(self, new_dic):\n",
    "        self.__check_input(new_dic)\n",
    "        self.dic.update(new_dic)\n",
    "        self.__update_msg()\n",
    "        \n",
    "    def patch(self, in_dic):\n",
    "        for k in in_dic:\n",
    "            if k not in self.dic:\n",
    "                warnings.warn('電話帳に無い名前を変更することは出来ません。')\n",
    "                continue\n",
    "            self.dic[k] = in_dic[k]\n",
    "        self.__update_msg()\n",
    "        \n",
    "    def delete(self, name):\n",
    "        if isinstance(name, str):\n",
    "            del self.dic[name]\n",
    "        \n",
    "        elif isinstance(name, list):\n",
    "            for n in name:\n",
    "                del self.dic[n]\n",
    "        else:\n",
    "            raise TypeError('電話帳に登録されている名前を文字列かリストで入力してください')\n",
    "            \n",
    "        print(f'辞書が更新されました。最新の辞書は以下です。\\n{self.dic}')\n",
    "            \n",
    "                \n",
    "    def __city(self, num, name):\n",
    "        res = num.split('-')\n",
    "        if len(res)< 2:\n",
    "            warnings.warn(f'{name}の電話番号がハイフン区切りになっていません')\n",
    "        return num.split('-')[0]\n",
    "    \n",
    "    def __check_input(self, given):\n",
    "        if not isinstance(given, dict):\n",
    "            raise TypeError('入力が辞書型ではありません')\n",
    "            \n",
    "    def __update_msg(self):\n",
    "        print(f'辞書が更新されました。最新の辞書は以下です。\\n{self.dic}')\n",
    "    \n",
    "        \n",
    "    \n",
    "test = CallList({\"Tom\": \"0312345678\", \"Lisa\": \"048-749-5000\", \"Alice\": \"070-1574-5000\"})\n",
    "test.out()\n",
    "print(test.out_city(\"Tom\"))\n",
    "test.add({\"Neco\": \"1234567\"})\n",
    "test.patch({\"Necochan\": \"048-123-4567\", \"Tom\": \"03-1234-5678\"})\n",
    "test.delete([\"Alice\", \"Lisa\"])"
   ]
  },
  {
   "cell_type": "code",
   "execution_count": null,
   "id": "e2d7b05b",
   "metadata": {},
   "outputs": [],
   "source": []
  }
 ],
 "metadata": {
  "kernelspec": {
   "display_name": "Python 3 (ipykernel)",
   "language": "python",
   "name": "python3"
  },
  "language_info": {
   "codemirror_mode": {
    "name": "ipython",
    "version": 3
   },
   "file_extension": ".py",
   "mimetype": "text/x-python",
   "name": "python",
   "nbconvert_exporter": "python",
   "pygments_lexer": "ipython3",
   "version": "3.9.7"
  }
 },
 "nbformat": 4,
 "nbformat_minor": 5
}
