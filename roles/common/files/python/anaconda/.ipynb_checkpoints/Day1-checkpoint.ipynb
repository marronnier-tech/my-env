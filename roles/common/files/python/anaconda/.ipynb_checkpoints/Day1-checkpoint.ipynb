{
 "cells": [
  {
   "cell_type": "code",
   "execution_count": 2,
   "id": "f9e4e104",
   "metadata": {},
   "outputs": [
    {
     "name": "stdout",
     "output_type": "stream",
     "text": [
      "2187\n"
     ]
    }
   ],
   "source": [
    "x = 1\n",
    "while(x < 1000):\n",
    "    x *= 3\n",
    "\n",
    "print(x)"
   ]
  },
  {
   "cell_type": "code",
   "execution_count": 8,
   "id": "e997b3c5",
   "metadata": {},
   "outputs": [
    {
     "name": "stdout",
     "output_type": "stream",
     "text": [
      "[36.22222222222223, 36.0, 35.27777777777778, 36.94444444444444, 37.88888888888889]\n",
      "36.2℃は平熱です。\n",
      "36.0℃は平熱です。\n",
      "35.3℃は低体温です。\n",
      "36.9℃は平熱です。\n",
      "37.9℃は熱があります。\n"
     ]
    }
   ],
   "source": [
    "f_bodys = [97.2, 96.8, 95.5, 98.5, 100.2]\n",
    "c_bodys = []\n",
    "for f_body in f_bodys:\n",
    "    c_bodys.append(5 / 9 * ( f_body - 32))\n",
    "    \n",
    "print(c_bodys)\n",
    "\n",
    "top_limit = 37\n",
    "bottom_limit = 36\n",
    "for c_body in c_bodys:\n",
    "    if c_body < 37 and c_body >= 36:\n",
    "        print(\"{:.1f}℃は平熱です。\".format(c_body))\n",
    "    elif c_body < 36:\n",
    "        print(\"{:.1f}℃は低体温です。\".format(c_body))\n",
    "    else:\n",
    "        print(\"{:.1f}℃は熱があります。\".format(c_body))"
   ]
  },
  {
   "cell_type": "code",
   "execution_count": 18,
   "id": "edd8d064",
   "metadata": {},
   "outputs": [
    {
     "name": "stdout",
     "output_type": "stream",
     "text": [
      "71.775\n",
      "66.2305\n",
      "85.555\n"
     ]
    }
   ],
   "source": [
    "def dis_comfort(T, H, is_celsius = True):\n",
    "    if is_celsius:\n",
    "        C = T\n",
    "    else: \n",
    "        C = 5/9 * (T - 32)\n",
    "    \n",
    "    return 0.81 * C + 0.01 * H * (0.99 * C - 14.3) + 46.3\n",
    "\n",
    "print(dis_comfort(25, 50))\n",
    "print(dis_comfort(21, 45))\n",
    "print(dis_comfort(91, 70, False))"
   ]
  },
  {
   "cell_type": "code",
   "execution_count": 42,
   "id": "e907c625",
   "metadata": {},
   "outputs": [
    {
     "name": "stdout",
     "output_type": "stream",
     "text": [
      "{'3': 25}\n",
      "25\n",
      "{'3': 25, '5': 32}\n",
      "32\n"
     ]
    }
   ],
   "source": [
    "class dic_temp:\n",
    "    def __init__(self, temp_table):\n",
    "        self.dic = temp_table\n",
    "        \n",
    "    def out(self):\n",
    "        print(self.dic)\n",
    "        \n",
    "    def get(self):\n",
    "        return self.dic\n",
    "        \n",
    "temp = dic_temp({'3': 25})\n",
    "temp.out()\n",
    "table = temp.get()\n",
    "print(table['3'])\n",
    "\n",
    "class show_temp(dic_temp):\n",
    "    def get_temp(self,day):\n",
    "        return self.dic[day]\n",
    "\n",
    "\n",
    "test = show_temp({'3': 25, '5': 32})\n",
    "test.out()\n",
    "print(test.get_temp('5'))\n"
   ]
  },
  {
   "cell_type": "code",
   "execution_count": 44,
   "id": "d8b90598",
   "metadata": {},
   "outputs": [
    {
     "data": {
      "text/plain": [
       "3"
      ]
     },
     "execution_count": 44,
     "metadata": {},
     "output_type": "execute_result"
    }
   ],
   "source": [
    "add_lambda = lambda x, y: x + y\n",
    "add_lambda(1,2)"
   ]
  },
  {
   "cell_type": "code",
   "execution_count": 10,
   "id": "8467e3b1",
   "metadata": {},
   "outputs": [
    {
     "data": {
      "text/plain": [
       "'b'"
      ]
     },
     "execution_count": 10,
     "metadata": {},
     "output_type": "execute_result"
    }
   ],
   "source": [
    "doc = {\"a\": 1, \"b\": 7, \"c\":7}\n",
    "max(doc.items(), key=lambda x:x[1])[0]"
   ]
  },
  {
   "cell_type": "code",
   "execution_count": 17,
   "id": "0f6ab4bd",
   "metadata": {},
   "outputs": [
    {
     "name": "stdout",
     "output_type": "stream",
     "text": [
      "{'0128': 12, '0129': 15, '0130': 9}\n",
      "{'0128': 12, '0129': 15, '0130': 9}です\n"
     ]
    }
   ],
   "source": [
    "class temperature:\n",
    "    def __init__(self, dic):\n",
    "        self.dic = dic\n",
    "\n",
    "    def out(self):\n",
    "        print(self.dic)\n",
    "\n",
    "    def show(self):\n",
    "        return(self.dic)\n",
    "    \n",
    "test = temperature({\"0128\":12, \"0129\": 15, \"0130\": 9})\n",
    "test.out()\n",
    "test_dic = test.show()\n",
    "print(str(test_dic) + \"です\")"
   ]
  },
  {
   "cell_type": "code",
   "execution_count": 29,
   "id": "d207cfd5",
   "metadata": {},
   "outputs": [
    {
     "name": "stdout",
     "output_type": "stream",
     "text": [
      "{'0128': 12, '0129': 15, '0130': 9}\n",
      "0129\n"
     ]
    }
   ],
   "source": [
    "class ex_temp(temperature):\n",
    "    def max_temp(self):\n",
    "        print(max(self.dic.items(), key= lambda x: x[1])[0])\n",
    "        \n",
    "test2 = ex_temp({\"0128\":12, \"0129\": 15, \"0130\": 9})\n",
    "test2.out()\n",
    "test2.max_temp()\n"
   ]
  },
  {
   "cell_type": "code",
   "execution_count": 34,
   "id": "b9a2e3e6",
   "metadata": {},
   "outputs": [
    {
     "name": "stdout",
     "output_type": "stream",
     "text": [
      "070\n"
     ]
    }
   ],
   "source": [
    "import re\n",
    "\n",
    "def area_code(tel):\n",
    "    return re.split('\\-', tel)[0]\n",
    "\n",
    "print(area_code('070-1574-0411'))"
   ]
  }
 ],
 "metadata": {
  "kernelspec": {
   "display_name": "Python 3 (ipykernel)",
   "language": "python",
   "name": "python3"
  },
  "language_info": {
   "codemirror_mode": {
    "name": "ipython",
    "version": 3
   },
   "file_extension": ".py",
   "mimetype": "text/x-python",
   "name": "python",
   "nbconvert_exporter": "python",
   "pygments_lexer": "ipython3",
   "version": "3.9.7"
  }
 },
 "nbformat": 4,
 "nbformat_minor": 5
}
